{
 "cells": [
  {
   "cell_type": "code",
   "execution_count": 1,
   "metadata": {},
   "outputs": [],
   "source": [
    "import pandas as pd"
   ]
  },
  {
   "cell_type": "code",
   "execution_count": 2,
   "metadata": {},
   "outputs": [],
   "source": [
    "df = pd.read_csv('./item_metadata.csv', low_memory=False)\n",
    "pd.set_option('display.max_columns', None)"
   ]
  },
  {
   "cell_type": "code",
   "execution_count": 12,
   "metadata": {},
   "outputs": [
    {
     "data": {
      "text/html": [
       "<div>\n",
       "<style scoped>\n",
       "    .dataframe tbody tr th:only-of-type {\n",
       "        vertical-align: middle;\n",
       "    }\n",
       "\n",
       "    .dataframe tbody tr th {\n",
       "        vertical-align: top;\n",
       "    }\n",
       "\n",
       "    .dataframe thead th {\n",
       "        text-align: right;\n",
       "    }\n",
       "</style>\n",
       "<table border=\"1\" class=\"dataframe\">\n",
       "  <thead>\n",
       "    <tr style=\"text-align: right;\">\n",
       "      <th></th>\n",
       "      <th>article_id</th>\n",
       "      <th>product_code</th>\n",
       "      <th>prod_name</th>\n",
       "      <th>product_type_no</th>\n",
       "      <th>product_type_name</th>\n",
       "      <th>product_group_name</th>\n",
       "      <th>graphical_appearance_no</th>\n",
       "      <th>graphical_appearance_name</th>\n",
       "      <th>colour_group_code</th>\n",
       "      <th>colour_group_name</th>\n",
       "      <th>perceived_colour_value_id</th>\n",
       "      <th>perceived_colour_value_name</th>\n",
       "      <th>perceived_colour_master_id</th>\n",
       "      <th>perceived_colour_master_name</th>\n",
       "      <th>department_no</th>\n",
       "      <th>department_name</th>\n",
       "      <th>index_code</th>\n",
       "      <th>index_name</th>\n",
       "      <th>index_group_no</th>\n",
       "      <th>index_group_name</th>\n",
       "      <th>section_no</th>\n",
       "      <th>section_name</th>\n",
       "      <th>garment_group_no</th>\n",
       "      <th>garment_group_name</th>\n",
       "      <th>detail_desc</th>\n",
       "      <th>image_name</th>\n",
       "      <th>Pattern_prediction</th>\n",
       "      <th>Sleeve_prediction</th>\n",
       "      <th>Length_prediction</th>\n",
       "      <th>Neckline_prediction</th>\n",
       "      <th>detected_fabrics</th>\n",
       "    </tr>\n",
       "  </thead>\n",
       "  <tbody>\n",
       "    <tr>\n",
       "      <th>4324</th>\n",
       "      <td>529180002</td>\n",
       "      <td>529180</td>\n",
       "      <td>CARTER CHECKED</td>\n",
       "      <td>259</td>\n",
       "      <td>Shirt</td>\n",
       "      <td>Garment Upper body</td>\n",
       "      <td>1010004</td>\n",
       "      <td>Check</td>\n",
       "      <td>43</td>\n",
       "      <td>Dark Red</td>\n",
       "      <td>4</td>\n",
       "      <td>Dark</td>\n",
       "      <td>18</td>\n",
       "      <td>Red</td>\n",
       "      <td>1543</td>\n",
       "      <td>Tops Woven</td>\n",
       "      <td>D</td>\n",
       "      <td>Divided</td>\n",
       "      <td>2</td>\n",
       "      <td>Divided</td>\n",
       "      <td>53</td>\n",
       "      <td>Divided Collection</td>\n",
       "      <td>1010</td>\n",
       "      <td>Blouses</td>\n",
       "      <td>Slightly shorter, straight-cut flannel shirt w...</td>\n",
       "      <td>0529180002.jpg</td>\n",
       "      <td>lattice</td>\n",
       "      <td>long_sleeve</td>\n",
       "      <td>no_dress</td>\n",
       "      <td>crew_neckline</td>\n",
       "      <td>None detected</td>\n",
       "    </tr>\n",
       "  </tbody>\n",
       "</table>\n",
       "</div>"
      ],
      "text/plain": [
       "      article_id  product_code       prod_name  product_type_no  \\\n",
       "4324   529180002        529180  CARTER CHECKED              259   \n",
       "\n",
       "     product_type_name  product_group_name  graphical_appearance_no  \\\n",
       "4324             Shirt  Garment Upper body                  1010004   \n",
       "\n",
       "     graphical_appearance_name  colour_group_code colour_group_name  \\\n",
       "4324                     Check                 43          Dark Red   \n",
       "\n",
       "      perceived_colour_value_id perceived_colour_value_name  \\\n",
       "4324                          4                        Dark   \n",
       "\n",
       "      perceived_colour_master_id perceived_colour_master_name  department_no  \\\n",
       "4324                          18                          Red           1543   \n",
       "\n",
       "     department_name index_code index_name  index_group_no index_group_name  \\\n",
       "4324      Tops Woven          D    Divided               2          Divided   \n",
       "\n",
       "      section_no        section_name  garment_group_no garment_group_name  \\\n",
       "4324          53  Divided Collection              1010            Blouses   \n",
       "\n",
       "                                            detail_desc      image_name  \\\n",
       "4324  Slightly shorter, straight-cut flannel shirt w...  0529180002.jpg   \n",
       "\n",
       "     Pattern_prediction Sleeve_prediction Length_prediction  \\\n",
       "4324            lattice       long_sleeve          no_dress   \n",
       "\n",
       "     Neckline_prediction detected_fabrics  \n",
       "4324       crew_neckline    None detected  "
      ]
     },
     "execution_count": 12,
     "metadata": {},
     "output_type": "execute_result"
    }
   ],
   "source": [
    "df[df['article_id'] == 529180002]"
   ]
  },
  {
   "cell_type": "code",
   "execution_count": 17,
   "metadata": {},
   "outputs": [],
   "source": [
    "df.loc[df['garment_group_name'] == 'Dresses Ladies', 'garment_group_name'] = 'Dresses'"
   ]
  },
  {
   "cell_type": "code",
   "execution_count": 20,
   "metadata": {},
   "outputs": [],
   "source": [
    "df = df[df['garment_group_name'] != 'Special Offers']"
   ]
  },
  {
   "cell_type": "code",
   "execution_count": 21,
   "metadata": {},
   "outputs": [
    {
     "data": {
      "text/plain": [
       "garment_group_name\n",
       "Jersey            13886\n",
       "Blouses            5836\n",
       "Accessories        5486\n",
       "Knitwear           5444\n",
       "Trousers           5061\n",
       "Dresses            4867\n",
       "Shoes              2837\n",
       "Trousers Denim     1492\n",
       "Shirts             1425\n",
       "Skirts             1254\n",
       "Shorts             1163\n",
       "Suits               907\n",
       "Name: count, dtype: int64"
      ]
     },
     "execution_count": 21,
     "metadata": {},
     "output_type": "execute_result"
    }
   ],
   "source": [
    "df['garment_group_name'].value_counts()"
   ]
  },
  {
   "cell_type": "code",
   "execution_count": 22,
   "metadata": {},
   "outputs": [],
   "source": [
    "df.to_csv('./item_metadata.csv', index=False)"
   ]
  },
  {
   "cell_type": "code",
   "execution_count": null,
   "metadata": {},
   "outputs": [],
   "source": []
  }
 ],
 "metadata": {
  "kernelspec": {
   "display_name": "Python 3",
   "language": "python",
   "name": "python3"
  },
  "language_info": {
   "codemirror_mode": {
    "name": "ipython",
    "version": 3
   },
   "file_extension": ".py",
   "mimetype": "text/x-python",
   "name": "python",
   "nbconvert_exporter": "python",
   "pygments_lexer": "ipython3",
   "version": "3.10.11"
  }
 },
 "nbformat": 4,
 "nbformat_minor": 2
}
